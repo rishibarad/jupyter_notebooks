{
  "nbformat": 4,
  "nbformat_minor": 0,
  "metadata": {
    "colab": {
      "name": "Simple Alignment",
      "provenance": [],
      "collapsed_sections": []
    },
    "kernelspec": {
      "name": "python3",
      "display_name": "Python 3"
    }
  },
  "cells": [
    {
      "cell_type": "markdown",
      "metadata": {
        "id": "kYCKDBVB9Lkt",
        "colab_type": "text"
      },
      "source": [
        "# Simple Alignment \n",
        "The goal of this notebook is to showcase a simple way to visualize alignment score when dealing with a blackbox metric. \n",
        "\n",
        "Specifically, we are trying to align two arrays. We have a set of transformations that we can apply to that array, and a function that provides us with thee alignment score.\n",
        "\n",
        "This notebook presents the toy example of our arrays being 2 element vectors, our transformations being addition, and a series of metric functions. \n",
        "\n",
        "The goal is to explore:\n",
        "1. how to visualize alignment using matplotlib?\n",
        "2. how visualization can indicate specific bugs in our code? "
      ]
    },
    {
      "cell_type": "markdown",
      "metadata": {
        "id": "r5Zt3N01-XNe",
        "colab_type": "text"
      },
      "source": [
        "First, we start with importing numpy and matplotlib as well as initializing our functions"
      ]
    },
    {
      "cell_type": "code",
      "metadata": {
        "id": "4Gmlhx4bwVkJ",
        "colab_type": "code",
        "colab": {}
      },
      "source": [
        "import numpy as np\n",
        "import matplotlib.pyplot as plt\n",
        "\n",
        "# we would like to align the target to the anchor\n",
        "anchor = np.array([8, 9])\n",
        "target = np.array([6, 13])"
      ],
      "execution_count": 0,
      "outputs": []
    },
    {
      "cell_type": "markdown",
      "metadata": {
        "id": "dfTw-2IJ-xjW",
        "colab_type": "text"
      },
      "source": [
        "We then define a function that takes as input two values, a range to search within, and a metric function to compare them"
      ]
    },
    {
      "cell_type": "code",
      "metadata": {
        "id": "Xq3QAKXeICmb",
        "colab_type": "code",
        "colab": {}
      },
      "source": [
        "def align(anchor, target, max_offset, metric_fn, plot=True):\n",
        "  # matrix to hold alignment scores\n",
        "  scores = np.zeros( (2*max_offset+1, 2*max_offset+1))\n",
        "\n",
        "  # initialize scores\n",
        "  best_offset = None\n",
        "  best_score = np.inf # set this to -np.inf if you're maximizing\n",
        "\n",
        "  # loop through values\n",
        "  offset_range = range(-max_offset, max_offset+1)\n",
        "  for i, x in enumerate(offset_range):\n",
        "    for j, y in enumerate(offset_range):\n",
        "      \n",
        "      offset = np.array([x, y])\n",
        "      scores[i, j] = metric_fn(anchor, target + offset)\n",
        "      if scores[i, j] < best_score:\n",
        "        best_score = scores[i, j]\n",
        "        best_offset = offset\n",
        "\n",
        "  # plot scores\n",
        "  if plot:\n",
        "    plt.imshow(scores, cmap='Greys_r')\n",
        "    plt.colorbar()\n",
        "\n",
        "  return best_offset"
      ],
      "execution_count": 0,
      "outputs": []
    },
    {
      "cell_type": "markdown",
      "metadata": {
        "id": "4cx4YH-5LOjV",
        "colab_type": "text"
      },
      "source": [
        "We can define a good metric and see the output"
      ]
    },
    {
      "cell_type": "code",
      "metadata": {
        "id": "NqNeANdlLSpI",
        "colab_type": "code",
        "outputId": "0888e68a-b52d-4689-c782-c66848c78607",
        "colab": {
          "base_uri": "https://localhost:8080/",
          "height": 283
        }
      },
      "source": [
        "def good_metric(x, y):\n",
        "  return np.linalg.norm(x-y)\n",
        "\n",
        "off = align(anchor, target, 5, good_metric)\n",
        "print(off)"
      ],
      "execution_count": 0,
      "outputs": [
        {
          "output_type": "stream",
          "text": [
            "[ 2 -4]\n"
          ],
          "name": "stdout"
        },
        {
          "output_type": "display_data",
          "data": {
            "image/png": "[encoded data removed]",
            "text/plain": [
              "<Figure size 432x288 with 2 Axes>"
            ]
          },
          "metadata": {
            "tags": []
          }
        }
      ]
    },
    {
      "cell_type": "markdown",
      "metadata": {
        "id": "DTTCGc54LZxz",
        "colab_type": "text"
      },
      "source": [
        "But we could also define other metrics and see their outcomes."
      ]
    },
    {
      "cell_type": "code",
      "metadata": {
        "id": "876nGvDfLgKC",
        "colab_type": "code",
        "outputId": "342d276d-f814-429b-b7d1-1262db6b223f",
        "colab": {
          "base_uri": "https://localhost:8080/",
          "height": 265
        }
      },
      "source": [
        "def partial_metric(x, y):\n",
        "  return x[0]-y[0]\n",
        "\n",
        "off = align(anchor, target, 5, partial_metric)"
      ],
      "execution_count": 0,
      "outputs": [
        {
          "output_type": "display_data",
          "data": {
            "image/png": "[encoded data removed]",
            "text/plain": [
              "<Figure size 432x288 with 2 Axes>"
            ]
          },
          "metadata": {
            "tags": []
          }
        }
      ]
    },
    {
      "cell_type": "code",
      "metadata": {
        "id": "G3NECE5iLuzE",
        "colab_type": "code",
        "outputId": "3a49df11-6bfa-408d-dc85-907cc2cca96d",
        "colab": {
          "base_uri": "https://localhost:8080/",
          "height": 269
        }
      },
      "source": [
        "def partially_incorrect_metric(x, y):\n",
        "  return x[0] - y[1]\n",
        "\n",
        "off = align(anchor, target, 5, partially_incorrect_metric)"
      ],
      "execution_count": 0,
      "outputs": [
        {
          "output_type": "display_data",
          "data": {
            "image/png": "[encoded data removed]",
            "text/plain": [
              "<Figure size 432x288 with 2 Axes>"
            ]
          },
          "metadata": {
            "tags": []
          }
        }
      ]
    },
    {
      "cell_type": "code",
      "metadata": {
        "id": "y0FXvPyvL6Yf",
        "colab_type": "code",
        "outputId": "f796d08c-6c12-45e2-cdde-c38199b442a6",
        "colab": {
          "base_uri": "https://localhost:8080/",
          "height": 267
        }
      },
      "source": [
        "def off_charts_metric(x, y):\n",
        "  return np.linalg.norm((x-y).clip(min=0))\n",
        "\n",
        "off = align(anchor, target, 5, off_charts_metric)"
      ],
      "execution_count": 0,
      "outputs": [
        {
          "output_type": "display_data",
          "data": {
            "image/png": "[encoded data removed]",
            "text/plain": [
              "<Figure size 432x288 with 2 Axes>"
            ]
          },
          "metadata": {
            "tags": []
          }
        }
      ]
    }
  ]
}